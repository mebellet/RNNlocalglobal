{
 "cells": [
  {
   "cell_type": "code",
   "execution_count": 1,
   "metadata": {},
   "outputs": [],
   "source": [
    "import torch\n",
    "from torch import Tensor\n",
    "from torch.nn import Linear\n",
    "from torch.nn import ReLU\n",
    "from torch.nn import Tanh\n",
    "from torch.nn import Sigmoid\n",
    "from torch.nn import Module\n",
    "from torch.nn import Embedding \n",
    "from torch.optim import SGD,Adam\n",
    "from torch.nn import CrossEntropyLoss, BCELoss, MSELoss\n",
    "import matplotlib.pyplot as plt\n",
    "from sklearn.metrics import accuracy_score, mean_squared_error\n",
    "import numpy as np\n",
    "from numpy import vstack\n",
    "from sklearn.decomposition import PCA\n",
    "from torch.utils.data import random_split\n",
    "from torch.nn.init import kaiming_uniform_\n",
    "from torch.nn.init import xavier_uniform_\n",
    "import matplotlib\n",
    "import seaborn as sb\n",
    "import math\n",
    "matplotlib.rcParams['pdf.fonttype'] = 42\n",
    "matplotlib.rcParams['ps.fonttype'] = 42"
   ]
  },
  {
   "cell_type": "code",
   "execution_count": 2,
   "metadata": {},
   "outputs": [],
   "source": [
    "# model definition\n",
    "class RNN(Module):\n",
    "    # define model elements\n",
    "    # n_inputs: input dimension\n",
    "    # n_hidden: number of neurons per layer\n",
    "    # n_layers: number of hidden layers\n",
    "    def __init__(self, n_hidden, n_layers, input_dim):\n",
    "        super(RNN, self).__init__()\n",
    "        \n",
    "        # hidden layers\n",
    "        #self.embed = Embedding(input_dim, embedding_dim) \n",
    "        self.hidden = {}\n",
    "        self.act = {}\n",
    "        for i in range(n_layers):\n",
    "            if i==0:\n",
    "                n_in = input_dim + n_hidden # embedding_dim + n_hidden\n",
    "            else:\n",
    "                n_in = n_hidden * 2\n",
    "            # input to hidden layer\n",
    "            self.hidden[i] = Linear(n_in, n_hidden)\n",
    "            kaiming_uniform_(self.hidden[i].weight, nonlinearity='relu')\n",
    "            # non-linearity\n",
    "            self.act[i] = ReLU()\n",
    "        \n",
    "        # output\n",
    "        self.out = Linear(n_hidden,1) # dimension of output is 2\n",
    "        xavier_uniform_(self.out.weight)\n",
    "        self.actout = Sigmoid()\n",
    "        \n",
    "        \n",
    "    # forward propagate input\n",
    "    def forward(self, X, hidden_layer):\n",
    "        n_layers = len(hidden_layer)\n",
    "        #idx = torch.argmax(X,-1)\n",
    "        #embedding = self.embed(idx)\n",
    "        for i in range(n_layers):\n",
    "            if i == 0:\n",
    "                # combine input with previous hidden\n",
    "                combined = torch.cat((X, hidden_layer[i]), 1)\n",
    "            else:\n",
    "                # combine previous hidden with hidden\n",
    "                combined = torch.cat((hidden_layer[i-1], hidden_layer[i]), 1)\n",
    "            # input to hidden layer\n",
    "            hidden_layer[i] = self.hidden[i](combined)\n",
    "            hidden_layer[i] = self.act[i](hidden_layer[i])\n",
    "            \n",
    "        ## output\n",
    "        output = self.out(hidden_layer[i])\n",
    "        output = self.actout(output) # same/different classification\n",
    "        #output = self.actout(output)\n",
    "\n",
    "        return output,hidden_layer"
   ]
  },
  {
   "cell_type": "code",
   "execution_count": 3,
   "metadata": {},
   "outputs": [],
   "source": [
    "# train the model\n",
    "def train_model(train_x, val_x,model):\n",
    "    n_layers = len(model.hidden)\n",
    "    n_hidden = model.hidden[0].weight.size()[0]\n",
    "    # define the optimization\n",
    "    criterion = BCELoss()\n",
    "    optimizer = Adam(model.parameters(), lr=0.01)\n",
    "    \n",
    "    batch_size = train_x.shape[0]\n",
    "    n_timepoints = train_x.shape[1]\n",
    "    \n",
    "    all_loss = []\n",
    "    lossdiff = -1\n",
    "    epoch = 0\n",
    "    while lossdiff<0:\n",
    "       \n",
    "        # initialise hidden states\n",
    "        hi = {}\n",
    "        hiv = {}\n",
    "        for k in range(n_layers):\n",
    "            hi[k] = torch.zeros((batch_size,n_hidden))\n",
    "            hiv[k] = torch.zeros((batch_size,n_hidden))\n",
    "        l = []\n",
    "        lv = []\n",
    "        for i in range(n_timepoints):# items in sequence\n",
    "            x = train_x[:,i,:]\n",
    "                \n",
    "            # compute the model output\n",
    "            yhat,hi = model(x,hi)\n",
    "                \n",
    "            # validation\n",
    "            xv = val_x[:,i,:]\n",
    "            yval,hiv = model(xv,hiv)\n",
    "            if i>0:\n",
    "                change = np.round(torch.mean((x!=train_x[:,i-1,:]).float(),-1))# compute change variable\n",
    "                change_val = np.round(torch.mean((xv!=val_x[:,i-1,:]).float(),-1))# compute change variable\n",
    "                optimizer.zero_grad()\n",
    "                loss = criterion(yhat[:,0],change)\n",
    "                loss_val = criterion(yval[:,0],change_val)\n",
    "                \n",
    "                loss.backward(retain_graph=True)\n",
    "                optimizer.step()\n",
    "       \n",
    "        \n",
    "        all_loss.append(loss_val.item())  \n",
    "        if epoch>10:\n",
    "            lossdiff = all_loss[-1]-np.mean(all_loss[-10:-1] )\n",
    "        if epoch>1000:\n",
    "            lossdiff = 1 # break\n",
    "        epoch +=1\n",
    "    return all_loss\n",
    "\n",
    "\n",
    "def predict(x,model):\n",
    "    \n",
    "    n_layers = len(model.hidden)\n",
    "    n_hidden = model.hidden[0].weight.size()[0]\n",
    "\n",
    "    \n",
    "    \n",
    "    batch_size = x.size()[0]\n",
    "    h = {}\n",
    "    for k in range(n_layers):\n",
    "        h[k] = torch.zeros((batch_size,n_hidden))\n",
    "    Yhat,H = np.zeros((batch_size,x.size()[1])), np.zeros((batch_size,x.size()[1], n_hidden))\n",
    "    for j in range(x.size()[1]):\n",
    "        xj = x[:,j,:]\n",
    "        # compute the model output\n",
    "        yhat,h = model(xj,h)\n",
    "        \n",
    "        Yhat[:,j] = yhat[:,0].detach().numpy() # predicted stimulus\n",
    "        H[:,j,:] = h[1].detach().numpy()\n",
    "   \n",
    "    return Yhat,H #,c\n"
   ]
  },
  {
   "cell_type": "markdown",
   "metadata": {},
   "source": [
    "Create input sequences"
   ]
  },
  {
   "cell_type": "code",
   "execution_count": 4,
   "metadata": {},
   "outputs": [],
   "source": [
    "def make_sequence(seq,repeats,pairs,zero_vector,deviance_prob):\n",
    "    \n",
    "    '''\n",
    "    Create a structured sequence such as 010101, replacing 0 and 1 with (one-hot) vectors from dictionary\n",
    "    \n",
    "    batch_size: number of sequence samples with different value for 0 and 1\n",
    "    seq: list of sequence structures\n",
    "    repeats: repeats per sequence chunk (e.g. 4 = 4xsize of sequence chunk)\n",
    "    dictionary: matrix of (one-hot) vectors, shape: dic size X input size\n",
    "    zero_vector: vector to be used for the zero state\n",
    "    deviance_prob: probability of global deviant\n",
    "    '''\n",
    "    nseq = len(seq)\n",
    "    x = np.zeros((nseq))\n",
    "    input_size = pairs.shape[2]\n",
    "    batch_size = pairs.shape[0]\n",
    "    all_seq = []\n",
    "    seq_len = []\n",
    "    for s in seq:\n",
    "        \n",
    "        # pick value from dictionary:\n",
    "        a = []\n",
    "        b = []\n",
    "        for i in range(batch_size):\n",
    "            a.append(pairs[i,0,:]) # X\n",
    "            b.append(pairs[i,1,:]) # Y\n",
    "        a = np.array(a)\n",
    "        b = np.array(b)\n",
    "        # create sequence\n",
    "        sequence = []\n",
    "        for i,element in enumerate(s):\n",
    "            if element==0:\n",
    "                sequence.append(a)\n",
    "            elif element==1:\n",
    "                sequence.append(b)\n",
    "\n",
    "        sequence = np.array(sequence)\n",
    "         \n",
    "        sequence = np.swapaxes(sequence,0,1)\n",
    "        # add zero state\n",
    "        sequence = np.concatenate((sequence,np.repeat(zero_vector[None,:,:],batch_size,0)),1)\n",
    "        out_sequence = sequence\n",
    "        #global_deviants = np.round(np.random.rand(repeats-2)-(0.5-deviance_prob))\n",
    "        for r in range(repeats-1):\n",
    "            # stack the sequence repeat times\n",
    "            out_sequence = np.concatenate((out_sequence,sequence),1)\n",
    "            # insert global deviant according to global_Deviants for all chunks but last\n",
    "            #if r<repeats-2:\n",
    "            #    if global_deviants[r]==1:\n",
    "            #        # check wich item is the last\n",
    "            #        if np.mean(out_sequence[:,-2]==a):\n",
    "            #            out_sequence[:,-2]=b #switch\n",
    "            #        else:\n",
    "            #            out_sequence[:,-2]=a\n",
    "            #    \n",
    "        all_seq.append(out_sequence)\n",
    "\n",
    "    return all_seq\n"
   ]
  },
  {
   "cell_type": "markdown",
   "metadata": {},
   "source": [
    "### Training & Testing on structure switch"
   ]
  },
  {
   "cell_type": "code",
   "execution_count": 5,
   "metadata": {},
   "outputs": [],
   "source": [
    "input_size = 2 # dimensionality of the input\n",
    "batch_size = 200 # size of stimulus dictionary\n",
    "n_hidden = 128\n",
    "n_layers = 2\n",
    "deviance_prob = 0\n",
    "N = 100 # number of samples\n",
    "change_probability = 0.5\n",
    "binsize = 22.5\n",
    "bins = np.arange(-180,180,binsize)"
   ]
  },
  {
   "cell_type": "code",
   "execution_count": 6,
   "metadata": {},
   "outputs": [],
   "source": [
    "x_train = np.zeros((batch_size,N,2))\n",
    "x_test = np.zeros((batch_size,N,2))\n",
    "x_oddball = np.zeros((batch_size,N,2))\n",
    "x_val = np.zeros((batch_size,N,2))\n",
    "y = np.zeros((batch_size,N))\n",
    "y_test = np.zeros((batch_size,N))\n",
    "y_val = np.zeros((batch_size,N))\n",
    "y_oddball = np.zeros((batch_size,N))\n",
    "values = (bins+180)/360\n",
    "for i in range(N):\n",
    "    # training data\n",
    "    alpha_new = np.random.choice(values,batch_size)\n",
    "    change = np.random.rand(batch_size)+(change_probability-0.5)\n",
    "    if i>0:\n",
    "        alpha[np.round(change)==1] = alpha_new[np.round(change)==1]\n",
    "    else:\n",
    "        alpha = alpha_new\n",
    "    z = np.exp(2*np.pi*1j*alpha)\n",
    "    a = z.real\n",
    "    b = z.imag\n",
    "    x_train[:,i,0],x_train[:,i,1] = a,b\n",
    "    y[:,i] = np.round(change)\n",
    "    \n",
    "    # test data\n",
    "    alpha_new = np.random.choice(values,batch_size)\n",
    "    change = np.random.rand(batch_size)+(change_probability-0.5)\n",
    "    if i>0:\n",
    "        alpha_test[np.round(change)==1] = alpha_new[np.round(change)==1]\n",
    "    else:\n",
    "        alpha_test = alpha_new\n",
    "    z = np.exp(2*np.pi*1j*alpha_test)\n",
    "    a = z.real\n",
    "    b = z.imag\n",
    "    x_test[:,i,0],x_test[:,i,1] = a,b\n",
    "    y_test[:,i] = np.round(change)\n",
    "\n",
    "    # validation data\n",
    "    alpha_new = np.random.choice(values,batch_size)\n",
    "    change = np.random.rand(batch_size)+(change_probability-0.5)\n",
    "    if i>0:\n",
    "        alpha_val[np.round(change)==1] = alpha_new[np.round(change)==1]\n",
    "    else:\n",
    "        alpha_val = alpha_new\n",
    "    z = np.exp(2*np.pi*1j*alpha_val)\n",
    "    a = z.real\n",
    "    b = z.imag\n",
    "    x_val[:,i,0],x_val[:,i,1] = a,b\n",
    "    y_val[:,i] = np.round(change)\n",
    "\n",
    "    \n",
    "    # oddball data\n",
    "    change = np.random.rand(batch_size)+(0.05-0.5)\n",
    "    if i>0:\n",
    "        alpha_oddball[np.round(change)==1] = alpha_oddball[np.round(change)==1]+1/4\n",
    "    else:\n",
    "        alpha_oddball = np.random.choice(values,batch_size)\n",
    "    z = np.exp(2*np.pi*1j*alpha_oddball)\n",
    "    a = z.real\n",
    "    b = z.imag\n",
    "    x_oddball[:,i,0],x_oddball[:,i,1] = a,b\n",
    "    y_oddball[:,i] = np.round(change)"
   ]
  },
  {
   "cell_type": "code",
   "execution_count": 7,
   "metadata": {},
   "outputs": [
    {
     "data": {
      "text/plain": [
       "<matplotlib.image.AxesImage at 0x1466ac748>"
      ]
     },
     "execution_count": 7,
     "metadata": {},
     "output_type": "execute_result"
    },
    {
     "data": {
      "image/png": "[encoded data removed]",
      "text/plain": [
       "<Figure size 432x288 with 1 Axes>"
      ]
     },
     "metadata": {},
     "output_type": "display_data"
    }
   ],
   "source": [
    "plt.imshow(x_oddball[:,:,0])"
   ]
  },
  {
   "cell_type": "code",
   "execution_count": null,
   "metadata": {
    "scrolled": true
   },
   "outputs": [
    {
     "name": "stdout",
     "output_type": "stream",
     "text": [
      "128 units per layer, 2 layer, 2 input dimensions\n"
     ]
    }
   ],
   "source": [
    "\n",
    "print('%s units per layer, %s layer, %s input dimensions'%(n_hidden,n_layers, input_size))\n",
    "\n",
    "\n",
    "# train network\n",
    "model = RNN(n_hidden,n_layers,input_size)\n",
    "Loss = train_model(torch.Tensor(x_train),torch.Tensor(x_val),model)\n",
    "plt.plot(Loss)\n",
    "plt.show()\n",
    "\n",
    "# evaluation\n",
    "Yhat,H = predict(torch.Tensor(x_test),model)\n",
    "# evaluation on oddball\n",
    "Yoddball,Hoddball = predict(torch.Tensor(x_oddball),model)\n",
    "\n",
    "Acc = np.mean(np.round(Yhat)==y_test)\n",
    "Acc_oddball = np.mean(np.round(Yoddball)==y_oddball)\n",
    "print(Acc)\n",
    "print(Acc_oddball)"
   ]
  },
  {
   "cell_type": "code",
   "execution_count": 246,
   "metadata": {},
   "outputs": [
    {
     "data": {
      "image/png": "[encoded data removed]",
      "text/plain": [
       "<Figure size 216x216 with 1 Axes>"
      ]
     },
     "metadata": {},
     "output_type": "display_data"
    },
    {
     "data": {
      "text/plain": [
       "[<matplotlib.lines.Line2D at 0x14589ec18>]"
      ]
     },
     "execution_count": 246,
     "metadata": {},
     "output_type": "execute_result"
    },
    {
     "data": {
      "image/png": "[encoded data removed]",
      "text/plain": [
       "<Figure size 216x216 with 1 Axes>"
      ]
     },
     "metadata": {},
     "output_type": "display_data"
    }
   ],
   "source": [
    "\n",
    "# get TUNING from many-standard-control\n",
    "# and oddball, centred on preferred in many-standard control\n",
    "angles = np.zeros((batch_size,N)) # xy to angle\n",
    "angles_oddball = np.zeros((batch_size,N)) \n",
    "for i in range(batch_size):\n",
    "    for j in range(N):\n",
    "        angles[i,j] = math.degrees(math.atan2(x_test[i,j,1], x_test[i,j,0]))\n",
    "        angles_oddball[i,j] = math.degrees(math.atan2(x_oddball[i,j,1], x_oddball[i,j,0]))\n",
    "angles[angles==180] = -180\n",
    "angles = np.round(np.reshape(angles,(batch_size*N)),1)\n",
    "angles_oddball[angles_oddball==180] = -180\n",
    "angles_oddball = np.round(np.reshape(angles_oddball,(batch_size*N)),1)\n",
    "\n",
    "H_flat = np.reshape(H,(batch_size*N,n_hidden))\n",
    "Hoddball_flat = np.reshape(Hoddball,(batch_size*N,n_hidden))\n",
    "\n",
    "# reduce oddball to deviants and standards\n",
    "angles_stnd = angles_oddball[np.reshape(y_oddball,(batch_size*N))==0]\n",
    "Hstnd_flat = Hoddball_flat[np.reshape(y_oddball,(batch_size*N))==0,:]\n",
    "angles_oddball = angles_oddball[np.reshape(y_oddball,(batch_size*N))==1]\n",
    "Hoddball_flat = Hoddball_flat[np.reshape(y_oddball,(batch_size*N))==1,:]\n",
    "\n",
    "\n",
    "# bin responses\n",
    "responses_binned = np.zeros((len(bins),n_hidden))\n",
    "responses_oddball_binned = np.zeros((len(bins),n_hidden))\n",
    "responses_stnd_binned = np.zeros((len(bins),n_hidden))\n",
    "for i,b in enumerate(bins):\n",
    "    responses_binned[i,:] = np.mean(H_flat[(angles>=b) & (angles<bins[i]+binsize),:],0)\n",
    "    responses_oddball_binned[i,:] = np.mean(Hoddball_flat[(angles_oddball>=b) & (angles_oddball<bins[i]+binsize),:],0)\n",
    "    responses_stnd_binned[i,:] = np.mean(Hstnd_flat[(angles_stnd>=b) & (angles_stnd<bins[i]+binsize),:],0)\n",
    "    \n",
    "# get preferred in msc\n",
    "stimpref = np.argmax(responses_binned,0)\n",
    "\n",
    "# distance from preferred\n",
    "stim_distance = np.round(np.array([bins-bins[stimpref[i]] for i in range(n_hidden)]),1)\n",
    "stim_distance[stim_distance>=180] -= 360\n",
    "stim_distance[stim_distance<-180] += 360\n",
    "\n",
    "TC = np.zeros((n_hidden,len(bins)))\n",
    "TCoddball = np.zeros((n_hidden,len(bins)))\n",
    "TCstnd = np.zeros((n_hidden,len(bins)))\n",
    "for n in range(n_hidden):\n",
    "    for i in range(len(bins)):        \n",
    "        TC[n,i] = np.mean(responses_binned[stim_distance[n,:]==bins[i],n])\n",
    "        TCoddball[n,i] = np.mean(responses_oddball_binned[stim_distance[n,:]==bins[i],n])\n",
    "        TCstnd[n,i] = np.mean(responses_stnd_binned[stim_distance[n,:]==bins[i],n])\n",
    "\n",
    "incUnits = np.where((np.mean(TC,1)!=0) & (TC[:,int(len(bins)/2)-1]>TC[:,0]) & (TC[:,int(len(bins)/2)+1]>TC[:,-1]))[0]\n",
    "fig,ax = plt.subplots(1,1,figsize=(3,3))\n",
    "#plt.plot(bins,np.median(TC[incUnits,:],0),'.-',color=(0.2,0,0.2),label='Control')\n",
    "plt.plot(bins,np.median(TCoddball[incUnits,:],0),'.-',color=(0.8,0,0),label='Deviant')\n",
    "plt.plot(bins,np.median(TCstnd[incUnits,:],0),'.-',color=(0,0,0.8),label='Standard')\n",
    "plt.show()\n",
    "\n",
    "# regression\n",
    "S = np.eye(len(bins))\n",
    "Beta = responses_binned.T@S\n",
    "# PCA\n",
    "pca = PCA(n_components=2)\n",
    "pca.fit(Beta.T)\n",
    "comp = pca.components_\n",
    "# project single trials onto axes\n",
    "responses_pc = H_flat@comp.T\n",
    "responses_oddball_pc = Hoddball_flat@comp.T\n",
    "responses_binned_pc = np.zeros((len(bins),2))\n",
    "responses_oddball_binned_pc = np.zeros((len(bins),2))\n",
    "fig,ax = plt.subplots(1,1,figsize=(3,3))\n",
    "for i,b in enumerate(bins):\n",
    "    responses_binned_pc[i,:] = np.mean(responses_pc[(angles>=b) & (angles<bins[i]+binsize),:],0)\n",
    "    responses_oddball_binned_pc[i,:] = np.mean(responses_oddball_pc[(angles_oddball>=b) & (angles_oddball<bins[i]+binsize),:],0)\n",
    "\n",
    "\n",
    "plt.plot(responses_binned_pc[:,0],responses_binned_pc[:,1],'-')\n",
    "plt.plot(responses_oddball_binned_pc[:,0],responses_oddball_binned_pc[:,1],'-')\n",
    "#plt.xlim(-4,4)\n",
    "#plt.ylim(-4,4)\n"
   ]
  },
  {
   "cell_type": "code",
   "execution_count": null,
   "metadata": {},
   "outputs": [],
   "source": []
  },
  {
   "cell_type": "code",
   "execution_count": 238,
   "metadata": {},
   "outputs": [
    {
     "data": {
      "text/plain": [
       "(128, 16)"
      ]
     },
     "execution_count": 238,
     "metadata": {},
     "output_type": "execute_result"
    }
   ],
   "source": [
    "TC.shape"
   ]
  },
  {
   "cell_type": "code",
   "execution_count": 102,
   "metadata": {},
   "outputs": [
    {
     "data": {
      "text/plain": [
       "array([3, 3, 3, 3, 3, 3, 3, 3, 3, 3, 3, 3, 3, 3, 3, 3, 3, 3, 3, 3, 3, 3,\n",
       "       3, 3, 3, 3, 3, 3, 3, 3, 3, 3, 3, 3, 3, 3, 3, 3, 3, 3, 3, 3, 3, 3,\n",
       "       3, 3, 3, 3, 3, 3, 3, 3, 3, 3, 3, 3, 3, 3, 3, 3, 3, 3, 3, 3, 3, 3,\n",
       "       3, 3, 3, 3, 3, 3, 3, 3, 3, 3, 3, 3, 3, 3, 3, 3, 3, 3, 3, 3, 3, 3,\n",
       "       3, 3, 3, 3, 3, 3, 3, 3, 3, 3, 3, 3, 3, 3, 3, 3, 3, 3, 3, 3, 3, 3,\n",
       "       3, 3, 3, 3, 3, 3, 3, 3, 3, 3, 3, 3, 3, 3, 3, 3, 3, 3])"
      ]
     },
     "execution_count": 102,
     "metadata": {},
     "output_type": "execute_result"
    }
   ],
   "source": [
    "sum(np.isnan(responses_binned))"
   ]
  },
  {
   "cell_type": "code",
   "execution_count": 12,
   "metadata": {},
   "outputs": [
    {
     "data": {
      "image/png": "[encoded data removed]",
      "text/plain": [
       "<Figure size 432x288 with 1 Axes>"
      ]
     },
     "metadata": {},
     "output_type": "display_data"
    }
   ],
   "source": [
    "for i in range(len(seq_test)):\n",
    "    plt.plot(np.mean(Acc[i],1),'.-')\n",
    "\n",
    "plt.show()"
   ]
  },
  {
   "cell_type": "code",
   "execution_count": 13,
   "metadata": {},
   "outputs": [
    {
     "data": {
      "image/png": "[encoded data removed]",
      "text/plain": [
       "<Figure size 432x288 with 1 Axes>"
      ]
     },
     "metadata": {},
     "output_type": "display_data"
    }
   ],
   "source": [
    "for i in range(len(seq_test)):\n",
    "    plt.plot(np.mean(Yhat[i],0),'.-')\n",
    "plt.show()"
   ]
  },
  {
   "cell_type": "code",
   "execution_count": 823,
   "metadata": {
    "scrolled": true
   },
   "outputs": [
    {
     "data": {
      "text/plain": [
       "[<matplotlib.lines.Line2D at 0x14e3bbeb8>]"
      ]
     },
     "execution_count": 823,
     "metadata": {},
     "output_type": "execute_result"
    },
    {
     "data": {
      "image/png": "[encoded data removed]",
      "text/plain": [
       "<Figure size 432x288 with 1 Axes>"
      ]
     },
     "metadata": {},
     "output_type": "display_data"
    }
   ],
   "source": [
    "\n",
    "plt.plot(Loss,'.-')"
   ]
  },
  {
   "cell_type": "code",
   "execution_count": 14,
   "metadata": {},
   "outputs": [
    {
     "data": {
      "image/png": "[encoded data removed]",
      "text/plain": [
       "<Figure size 144x144 with 1 Axes>"
      ]
     },
     "metadata": {},
     "output_type": "display_data"
    }
   ],
   "source": [
    "import math\n",
    "from sklearn.decomposition import PCA\n",
    "from matplotlib.colors import LinearSegmentedColormap\n",
    "data = np.loadtxt(\"cyclic_colormaps/cyclic_mrybm.txt\")\n",
    "data2 = np.clip(data, 0, 1)\n",
    "cmap = LinearSegmentedColormap.from_list('my_colormap', data2)\n",
    "\n",
    "markers = ['.','*']\n",
    "fig,ax = plt.subplots(1,1,figsize=(2,2))\n",
    "for k in range(2):\n",
    "\n",
    "\n",
    "    Nback = 3*len(seq_test[k]) + 3\n",
    "   \n",
    "    stimuli = test_sequence[k][:,-3*5+3,:]\n",
    "    responses = Hidden[k][:,3,:]\n",
    "    \n",
    "    # centre\n",
    "    #responses_dev = (responses_dev - np.repeat(np.mean(responses,0)[None,:],dict_size,0)) / (np.repeat(np.std(responses,0)[None,:],dict_size,0)+1*10e-10)\n",
    "    #responses = (responses - np.repeat(np.mean(responses,0)[None,:],dict_size,0)) / (np.repeat(np.std(responses,0)[None,:],dict_size,0)+1*10e-10)\n",
    "\n",
    "    angles = np.zeros(stimuli.shape[0])\n",
    "    for i in range(stimuli.shape[0]):\n",
    "        angles[i] = math.degrees(math.atan2(stimuli[i,1], stimuli[i,0]))\n",
    "    # bin the angles\n",
    "    binsize = 22.5\n",
    "    bins = np.arange(-180,180,binsize)\n",
    "    responses_binned = np.zeros((len(bins),n_hidden))\n",
    "    for i,b in enumerate(bins):\n",
    "        responses_binned[i,:] = np.mean(responses[(angles>=b) & (angles<bins[i]+binsize),:],0)\n",
    "    #responses_binned = responses_binned - np.repeat(np.mean(responses_binned,0)[None,:],len(bins),0) / (np.repeat(np.std(responses_binned,0)[None,:],len(bins),0)+1*10e-10)\n",
    "    \n",
    "    # regression\n",
    "    S = np.eye(len(bins))\n",
    "    Beta = responses_binned.T@S\n",
    "    nanind = np.where(np.isnan(np.mean(Beta,1)))[0]\n",
    "    Beta[nanind,:] = 0\n",
    "    # PCA\n",
    "    pca = PCA(n_components=2)\n",
    "    pca.fit(Beta.T)\n",
    "    comp = pca.components_\n",
    "    # project single trials onto axes\n",
    "    responses_pc = responses@comp.T\n",
    "    responses_binned = np.zeros((len(bins),2))\n",
    "    for i,b in enumerate(bins):\n",
    "        responses_binned[i,:] = np.mean(responses_pc[(angles>=b) & (angles<bins[i]+binsize),:],0)\n",
    "        \n",
    "    \n",
    "    for i in range(len(bins)):\n",
    "        plt.plot(responses_binned[i,0],responses_binned[i,1],marker=markers[k],color=cmap(i/len(bins)))\n",
    "ax.set_xlim(-10,10)\n",
    "ax.set_ylim(-10,10)\n",
    "plt.show()"
   ]
  },
  {
   "cell_type": "code",
   "execution_count": 15,
   "metadata": {},
   "outputs": [
    {
     "data": {
      "image/png": "[encoded data removed]",
      "text/plain": [
       "<Figure size 144x144 with 1 Axes>"
      ]
     },
     "metadata": {},
     "output_type": "display_data"
    }
   ],
   "source": [
    "import math\n",
    "from sklearn.decomposition import PCA\n",
    "from matplotlib.colors import LinearSegmentedColormap\n",
    "data = np.loadtxt(\"cyclic_colormaps/cyclic_mrybm.txt\")\n",
    "data2 = np.clip(data, 0, 1)\n",
    "cmap = LinearSegmentedColormap.from_list('my_colormap', data2)\n",
    "\n",
    "binsize = 22.5\n",
    "bins = np.arange(-180,180,binsize)\n",
    "\n",
    "fig,ax = plt.subplots(1,1,figsize=(2,2))\n",
    "    \n",
    "stimuli = test_sequence[1][:,-15+2,:]\n",
    "responses = Hidden[1][:,2,:]\n",
    "\n",
    "stimuli_dev = test_sequence[1][:,-15+3,:]\n",
    "responses_dev = Hidden[1][:,3,:]\n",
    "\n",
    "# centre\n",
    "responses_dev = (responses_dev - np.repeat(np.mean(responses,0)[None,:],dict_size,0)) / (np.repeat(np.std(responses,0)[None,:],dict_size,0)+1*10e-10)\n",
    "responses = (responses - np.repeat(np.mean(responses,0)[None,:],dict_size,0)) / (np.repeat(np.std(responses,0)[None,:],dict_size,0)+1*10e-10)\n",
    "\n",
    "angles = np.zeros(stimuli.shape[0])\n",
    "angles_dev = np.zeros(stimuli_dev.shape[0])\n",
    "for i in range(stimuli.shape[0]):\n",
    "    angles[i] = math.degrees(math.atan2(stimuli[i,1], stimuli[i,0]))\n",
    "    angles_dev[i] = math.degrees(math.atan2(stimuli_dev[i,1], stimuli_dev[i,0]))\n",
    "\n",
    "\n",
    "# bin the angles\n",
    "responses_binned = np.zeros((len(bins),n_hidden))\n",
    "responses_dev_binned = np.zeros((len(bins),n_hidden))\n",
    "for i,b in enumerate(bins):\n",
    "    responses_binned[i,:] = np.mean(responses[(angles>=b) & (angles<bins[i]+binsize),:],0)\n",
    "    responses_dev_binned[i,:] = np.mean(responses_dev[(angles_dev>=b) & (angles_dev<bins[i]+binsize),:],0)\n",
    "#responses_dev_binned = (responses_dev_binned - np.repeat(np.mean(responses_binned,0)[None,:],len(bins),0)) / (np.repeat(np.std(responses_binned,0)[None,:],len(bins),0)+1*10e-10)\n",
    "#responses_binned = (responses_binned - np.repeat(np.mean(responses_binned,0)[None,:],len(bins),0)) / (np.repeat(np.std(responses_binned,0)[None,:],len(bins),0)+1*10e-10)\n",
    "    \n",
    "# regression\n",
    "S = np.eye(len(bins))\n",
    "Beta = responses_binned.T@S\n",
    "\n",
    "# PCA\n",
    "pca = PCA(n_components=2)\n",
    "pca.fit(Beta.T)\n",
    "comp = pca.components_\n",
    "\n",
    "# project single trials onto axes\n",
    "responses_pc = responses@comp.T\n",
    "responses_pc_dev = responses_dev@comp.T\n",
    "proj_responses_binned = np.zeros((len(bins),2))\n",
    "proj_responses_dev_binned = np.zeros((len(bins),2))\n",
    "for i,b in enumerate(bins):\n",
    "    proj_responses_binned[i,:] = np.mean(responses_pc[(angles>=b) & (angles<bins[i]+binsize),:],0)\n",
    "    proj_responses_dev_binned[i,:] = np.mean(responses_pc_dev[(angles_dev>=b) & (angles_dev<bins[i]+binsize),:],0)\n",
    "    \n",
    "\n",
    "for i in range(len(bins)):\n",
    "    plt.plot(proj_responses_binned[i,0],proj_responses_binned[i,1],'.',color=cmap(i/len(bins)))\n",
    "    plt.plot(proj_responses_dev_binned[i,0],proj_responses_dev_binned[i,1],'*',color=cmap(i/len(bins)))\n",
    "ax.set_xlim(-np.max(abs(proj_responses_binned[:,0]))-0.5,np.max(abs(proj_responses_binned[:,0]))+0.5)\n",
    "ax.set_ylim(-np.max(abs(proj_responses_binned[:,0]))-0.5,np.max(abs(proj_responses_binned[:,0]))+0.5)\n",
    "plt.show()"
   ]
  },
  {
   "cell_type": "markdown",
   "metadata": {},
   "source": [
    "## Tuning curves"
   ]
  },
  {
   "cell_type": "code",
   "execution_count": 22,
   "metadata": {},
   "outputs": [],
   "source": [
    "#TC = np.zeros((n_hidden,len(bins)))\n",
    "stimuli = test_sequence[0][:,-15+3,:]\n",
    "stimuli_dev = test_sequence[1][:,-15+3,:]\n",
    "responses = Hidden[0][:,3,:]\n",
    "responses_dev = Hidden[1][:,3,:]\n",
    "\n",
    "# centre\n",
    "responses_dev = (responses_dev - np.repeat(np.mean(responses,0)[None,:],dict_size,0)) / (np.repeat(np.std(responses,0)[None,:],dict_size,0)+1*10e-10)\n",
    "responses = (responses - np.repeat(np.mean(responses,0)[None,:],dict_size,0)) / (np.repeat(np.std(responses,0)[None,:],dict_size,0)+1*10e-10)\n",
    "\n",
    "angles = np.zeros(stimuli.shape[0])\n",
    "angles_dev = np.zeros(stimuli.shape[0])\n",
    "for i in range(stimuli.shape[0]):\n",
    "    angles[i] = math.degrees(math.atan2(stimuli[i,1], stimuli[i,0]))\n",
    "    angles_dev[i] = math.degrees(math.atan2(stimuli_dev[i,1], stimuli_dev[i,0]))\n",
    "    \n",
    "responses_binned = np.zeros((len(bins),n_hidden))\n",
    "responses_binned_dev = np.zeros((len(bins),n_hidden))\n",
    "for i,b in enumerate(bins):\n",
    "    responses_binned[i,:] = np.mean(responses[(angles>=b) & (angles<bins[i]+binsize),:],0)\n",
    "    responses_binned_dev[i,:] = np.mean(responses_dev[(angles_dev>=b) & (angles_dev<bins[i]+binsize),:],0)\n",
    "\n",
    "# get preferred \n",
    "stimpref_stnd = np.argmax(responses_binned,0)\n",
    "stimpref_dev = np.argmax(responses_binned_dev,0)\n",
    "\n",
    "# convert to radiant\n",
    "bins_rad = bins * np.pi/180\n",
    "stimpref_stnd = bins[stimpref_stnd] *np.pi/180\n",
    "stimpref_dev = bins[stimpref_dev] *np.pi/180\n",
    "\n",
    "# distance from preferred\n",
    "stim_distance_stnd = np.array([np.angle(np.exp(1j*(bins_rad-stimpref_stnd[i]))) for i in range(n_hidden)])\n",
    "stim_distance_stnd[stim_distance_stnd==nap.pi] = -np.pi\n",
    "\n",
    "TCstnd = np.zeros((n_hidden,len(bins)))\n",
    "TCdev = np.zeros((n_hidden,len(bins)))\n",
    "for n in range(n_hidden):\n",
    "    for i in range(len(bins)):\n",
    "\n",
    "        TCstnd[n,i] = np.mean(responses_binned[np.round(stim_distance_stnd[n,:],1)==np.round(bins_rad[i],1),n])\n",
    "        TCdev[n,i] = np.mean(responses_binned_dev[np.round(stim_distance_stnd[n,:],1)==np.round(bins_rad[i],1),n])\n",
    "#TCdevz = (TCdev-np.repeat(np.mean(TC,1)[:,None],len(bins),1)) / (np.repeat(np.std(TC,1)[:,None],len(bins),1)+10e-10)\n",
    "#TCz = (TC-np.repeat(np.mean(TC,1)[:,None],len(bins),1)) / (np.repeat(np.std(TC,1)[:,None],len(bins),1)+10e-10)"
   ]
  },
  {
   "cell_type": "code",
   "execution_count": 23,
   "metadata": {},
   "outputs": [
    {
     "data": {
      "text/plain": [
       "array([-180. , -157.5, -135. , -112.5,  -90. ,  -67.5,  -45. ,  -22.5,\n",
       "          0. ,   22.5,   45. ,   67.5,   90. ,  112.5,  135. ,  157.5])"
      ]
     },
     "execution_count": 23,
     "metadata": {},
     "output_type": "execute_result"
    }
   ],
   "source": [
    "bins"
   ]
  },
  {
   "cell_type": "code",
   "execution_count": 24,
   "metadata": {},
   "outputs": [
    {
     "data": {
      "text/plain": [
       "(array([14., 11., 15., 20., 12., 11.,  3.,  7., 23., 12.]),\n",
       " array([-2.74889357, -2.15984495, -1.57079633, -0.9817477 , -0.39269908,\n",
       "         0.19634954,  0.78539816,  1.37444679,  1.96349541,  2.55254403,\n",
       "         3.14159265]),\n",
       " <BarContainer object of 10 artists>)"
      ]
     },
     "execution_count": 24,
     "metadata": {},
     "output_type": "execute_result"
    },
    {
     "data": {
      "image/png": "[encoded data removed]",
      "text/plain": [
       "<Figure size 432x288 with 1 Axes>"
      ]
     },
     "metadata": {},
     "output_type": "display_data"
    }
   ],
   "source": [
    "dev_stnd = np.angle(np.exp(1j*(stimpref_dev-stimpref_stnd)))\n",
    "dev_ctrl = np.angle(np.exp(1j*(stimpref_dev-stimpref)))\n",
    "ctrl_stnd = np.angle(np.exp(1j*(stimpref-stimpref_stnd)))\n",
    "plt.hist(dev_stnd)\n",
    "plt.hist(dev_ctrl,alpha=.5)\n",
    "plt.hist(ctrl_stnd,alpha=.5)"
   ]
  },
  {
   "cell_type": "code",
   "execution_count": 25,
   "metadata": {},
   "outputs": [
    {
     "name": "stdout",
     "output_type": "stream",
     "text": [
      "4\n"
     ]
    },
    {
     "data": {
      "image/png": "[encoded data removed]",
      "text/plain": [
       "<Figure size 216x216 with 1 Axes>"
      ]
     },
     "metadata": {},
     "output_type": "display_data"
    },
    {
     "name": "stdout",
     "output_type": "stream",
     "text": [
      "-90.0\n"
     ]
    }
   ],
   "source": [
    "incUnits = np.where((np.mean(TC,1)!=0) & (np.max(TCdev,1)<4) & (TC[:,int(len(bins)/2)-1]>TC[:,0]) & (TC[:,int(len(bins)/2)+1]>TC[:,-1]))[0]\n",
    "print(len(incUnits))\n",
    "\n",
    "fig,ax = plt.subplots(1,1,figsize=(3,3))\n",
    "bootstrap = np.zeros((10,len(bins)))\n",
    "inc = TC[incUnits,:]\n",
    "n = int(len(inc)/10)\n",
    "for k in range(10):\n",
    "    ind = np.delete(np.arange(len(incUnits)),np.arange(k*n,(k+1)*n))\n",
    "    bootstrap[k,:] = np.median(inc[ind,:],0)\n",
    "    \n",
    "plt.fill_between(bins,np.min(bootstrap,0),np.max(bootstrap,0),\n",
    "        alpha=.2,color=(0.2,0,0.2))\n",
    "\n",
    "bootstrap = np.zeros((10,len(bins)))\n",
    "inc = TCdev[incUnits,:]\n",
    "n = int(len(inc)/10)\n",
    "for k in range(10):\n",
    "    ind = np.delete(np.arange(len(incUnits)),np.arange(k*n,(k+1)*n))\n",
    "    bootstrap[k,:] = np.median(inc[ind,:],0)\n",
    "plt.fill_between(bins,np.min(bootstrap,0),np.max(bootstrap,0),\n",
    "        alpha=.2,color=(0.8,0,0))\n",
    "\n",
    "bootstrap = np.zeros((10,len(bins)))\n",
    "inc = TCstnd[incUnits,:]\n",
    "n = int(len(inc)/10)\n",
    "for k in range(10):\n",
    "    ind = np.delete(np.arange(len(incUnits)),np.arange(k*n,(k+1)*n))\n",
    "    bootstrap[k,:] = np.median(inc[ind,:],0)\n",
    "plt.fill_between(bins,np.min(bootstrap,0),np.max(bootstrap,0),\n",
    "        alpha=.2,color=(0,0,0.8))\n",
    "\n",
    "plt.plot(bins,np.median(TC[incUnits,:],0),'.-',color=(0.2,0,0.2),label='Standard')\n",
    "plt.plot(bins,np.median(TCstnd[incUnits,:],0),'.-',color=(0,0,0.8),label='Standard')\n",
    "plt.plot(bins,np.median(TCdev[incUnits,:],0),'.-',color=(0.8,0,0),label='deviant')\n",
    "#plt.xlim(-95,95)\n",
    "sb.despine()\n",
    "ax.set_xlabel('Distance from preferred (°)')\n",
    "ax.set_ylabel('Delta F')\n",
    "ax.legend(bbox_to_anchor=(1.1, 1.05))\n",
    "ax.set_xticks(np.arange(-90,91,45))\n",
    "plt.show()\n",
    "print(bins[np.argmax(np.median(TCdev[incUnits,:],0))])"
   ]
  },
  {
   "cell_type": "code",
   "execution_count": 852,
   "metadata": {},
   "outputs": [
    {
     "data": {
      "text/plain": [
       "array([15, 13,  8,  5,  0,  0,  2, 10,  1, 11,  9,  9,  4, 10, 13, 10,  0,\n",
       "       14, 12, 15,  7,  0, 10,  5, 13, 10,  0,  9,  8,  5,  1,  0,  0, 11,\n",
       "        0,  0,  6, 11,  7, 13, 15, 13,  0,  8,  5, 13,  8,  2,  4,  3,  1,\n",
       "        4,  8,  9,  6,  7,  4, 15,  1,  0, 15,  0,  0,  0, 15, 12, 14,  2,\n",
       "        8, 10,  1,  8, 10, 13,  9,  2,  4,  1, 11,  0, 12, 11,  0, 11,  8,\n",
       "       11,  7,  4,  5,  1,  3,  4, 10,  4,  8,  2, 11,  8,  7,  9, 12, 11,\n",
       "        1, 10,  6, 15,  0, 10,  0,  3, 13,  5, 13,  0,  1,  2,  2,  7, 12,\n",
       "       14,  2,  6,  9, 13, 10,  1,  0, 10])"
      ]
     },
     "execution_count": 852,
     "metadata": {},
     "output_type": "execute_result"
    }
   ],
   "source": [
    "stimpref2"
   ]
  },
  {
   "cell_type": "code",
   "execution_count": 851,
   "metadata": {},
   "outputs": [
    {
     "data": {
      "text/plain": [
       "array([12,  4, 10,  4, 10,  0,  6,  7,  1,  9,  5,  2,  6,  0, 11, 10,  0,\n",
       "       12, 11,  3,  7, 12, 12, 10,  0, 13,  3,  7,  2,  5, 15,  4,  7,  0,\n",
       "        3, 15,  9,  4, 10,  2,  0, 10,  3,  3, 14, 10, 12,  7,  7,  2,  7,\n",
       "       12, 10,  0,  3,  2,  9, 13, 15,  1,  0, 12,  7, 10,  1, 14,  0, 15,\n",
       "        5, 10, 10,  7,  4,  6,  7,  0,  0,  0, 11, 13, 13,  9,  7,  7, 10,\n",
       "        0,  4,  3,  7,  2,  7,  6, 12, 10,  4,  3,  2,  7, 10, 13, 10, 12,\n",
       "       15, 13,  4,  0,  0,  2, 14, 10,  0,  6,  0,  4,  7, 13,  6,  0,  0,\n",
       "       12,  1,  7, 10, 13,  7,  3, 10, 13])"
      ]
     },
     "execution_count": 851,
     "metadata": {},
     "output_type": "execute_result"
    }
   ],
   "source": [
    "stimpref"
   ]
  },
  {
   "cell_type": "code",
   "execution_count": 854,
   "metadata": {},
   "outputs": [
    {
     "data": {
      "text/plain": [
       "90.0"
      ]
     },
     "execution_count": 854,
     "metadata": {},
     "output_type": "execute_result"
    }
   ],
   "source": [
    "bins[12]"
   ]
  },
  {
   "cell_type": "code",
   "execution_count": null,
   "metadata": {},
   "outputs": [],
   "source": []
  }
 ],
 "metadata": {
  "kernelspec": {
   "display_name": "Python 3",
   "language": "python",
   "name": "python3"
  },
  "language_info": {
   "codemirror_mode": {
    "name": "ipython",
    "version": 3
   },
   "file_extension": ".py",
   "mimetype": "text/x-python",
   "name": "python",
   "nbconvert_exporter": "python",
   "pygments_lexer": "ipython3",
   "version": "3.6.5"
  }
 },
 "nbformat": 4,
 "nbformat_minor": 2
}
